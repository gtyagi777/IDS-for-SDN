{
  "nbformat": 4,
  "nbformat_minor": 0,
  "metadata": {
    "colab": {
      "name": "Dataset Analysis.ipynb",
      "version": "0.3.2",
      "provenance": [],
      "include_colab_link": true
    },
    "kernelspec": {
      "display_name": "Python 3",
      "language": "python",
      "name": "python3"
    }
  },
  "cells": [
    {
      "cell_type": "markdown",
      "metadata": {
        "id": "view-in-github",
        "colab_type": "text"
      },
      "source": [
        "<a href=\"https://colab.research.google.com/github/gtyagi777/IDS-for-SDN/blob/master/Classifier_KNN.ipynb\" target=\"_parent\"><img src=\"https://colab.research.google.com/assets/colab-badge.svg\" alt=\"Open In Colab\"/></a>"
      ]
    },
    {
      "metadata": {
        "id": "UvmR2sHEfWvR",
        "colab_type": "code",
        "colab": {}
      },
      "cell_type": "code",
      "source": [
        "import pandas as pd\n"
      ],
      "execution_count": 0,
      "outputs": []
    },
    {
      "metadata": {
        "id": "NoO4Xsb4fWvY",
        "colab_type": "code",
        "colab": {
          "base_uri": "https://localhost:8080/",
          "height": 139
        },
        "outputId": "8b2e128b-203f-44fa-ff63-64844628462b"
      },
      "cell_type": "code",
      "source": [
        "!pip install -U -q PyDrive\n",
        " \n",
        "from pydrive.auth import GoogleAuth\n",
        "from pydrive.drive import GoogleDrive\n",
        "from google.colab import auth\n",
        "from oauth2client.client import GoogleCredentials\n",
        " \n",
        "# 1. Authenticate and create the PyDrive client.\n",
        "auth.authenticate_user()\n",
        "gauth = GoogleAuth()\n",
        "gauth.credentials = GoogleCredentials.get_application_default()\n",
        "drive = GoogleDrive(gauth)\n",
        "file_list = drive.ListFile({'q': \"'1r2Ybi5qAP3XI6JyI2jojaAc1m_UFxxqz' in parents and trashed=false\"}).GetList()\n",
        "for file1 in file_list:\n",
        "  print('title: %s, id: %s' % (file1['title'], file1['id']))"
      ],
      "execution_count": 6,
      "outputs": [
        {
          "output_type": "stream",
          "text": [
            "title: DF.pkl, id: 1y3JHFffO0s9CvD4VoeVJsv-Dk9Rsi1g5\n",
            "title: Dataset Analysis.ipynb, id: 1FVyxCdWX97kdWtYFzBnUErCYSHIdEKX6\n",
            "title: MNIST.ipynb, id: 1p42wxMR_N_6MqrbW8MObPWbaSN1U_dfd\n",
            "title: Untitled2.ipynb, id: 1YGqV7tCSnwWydp072wxdq6tMnJs_lnD_\n",
            "title: LearningTensorFlow.ipynb, id: 1nWmCudsGj1OcgRE6bjc3qsbG9nLX44Nj\n",
            "title: Untitled1.ipynb, id: 142t-wUTLHaMSW8Micxkz0xleBRvcpAhU\n",
            "title: Untitled0.ipynb, id: 10zKY7D_nwzktg3iYm9culrxB6mW_DjL9\n"
          ],
          "name": "stdout"
        }
      ]
    },
    {
      "metadata": {
        "id": "Q3MUuymUgRh0",
        "colab_type": "code",
        "colab": {}
      },
      "cell_type": "code",
      "source": [
        "train_downloaded = drive.CreateFile({'id': '1y3JHFffO0s9CvD4VoeVJsv-Dk9Rsi1g5'})\n",
        "train_downloaded.GetContentFile('DF.pkl')\n",
        "df = pd.read_pickle('DF.pkl')\n"
      ],
      "execution_count": 0,
      "outputs": []
    },
    {
      "metadata": {
        "id": "piCRisXffWvg",
        "colab_type": "code",
        "colab": {
          "base_uri": "https://localhost:8080/",
          "height": 104
        },
        "outputId": "34cf61e3-a012-4ea6-a06a-e3b65c29c598"
      },
      "cell_type": "code",
      "source": [
        "df[' Label'].unique()"
      ],
      "execution_count": 10,
      "outputs": [
        {
          "output_type": "execute_result",
          "data": {
            "text/plain": [
              "array(['BENIGN', 'DDoS', 'PortScan', 'Bot', 'Infiltration',\n",
              "       'Web Attack � Brute Force', 'Web Attack � XSS',\n",
              "       'Web Attack � Sql Injection', 'FTP-Patator', 'SSH-Patator',\n",
              "       'DoS slowloris', 'DoS Slowhttptest', 'DoS Hulk', 'DoS GoldenEye',\n",
              "       'Heartbleed'], dtype=object)"
            ]
          },
          "metadata": {
            "tags": []
          },
          "execution_count": 10
        }
      ]
    },
    {
      "metadata": {
        "id": "P-3Vjxp4fWvk",
        "colab_type": "code",
        "colab": {
          "base_uri": "https://localhost:8080/",
          "height": 35
        },
        "outputId": "d055c44b-a0c7-4bcd-e0d2-082b561c2e93"
      },
      "cell_type": "code",
      "source": [
        "df.isnull().any().any()"
      ],
      "execution_count": 11,
      "outputs": [
        {
          "output_type": "execute_result",
          "data": {
            "text/plain": [
              "False"
            ]
          },
          "metadata": {
            "tags": []
          },
          "execution_count": 11
        }
      ]
    },
    {
      "metadata": {
        "id": "jrxZ4MQEfWvq",
        "colab_type": "code",
        "colab": {
          "base_uri": "https://localhost:8080/",
          "height": 35
        },
        "outputId": "d49e221e-8f20-489f-f1e4-f2fb749cf77b"
      },
      "cell_type": "code",
      "source": [
        "df.shape"
      ],
      "execution_count": 12,
      "outputs": [
        {
          "output_type": "execute_result",
          "data": {
            "text/plain": [
              "(2827876, 80)"
            ]
          },
          "metadata": {
            "tags": []
          },
          "execution_count": 12
        }
      ]
    },
    {
      "metadata": {
        "id": "VIFdhYZlfWvx",
        "colab_type": "code",
        "colab": {
          "base_uri": "https://localhost:8080/",
          "height": 295
        },
        "outputId": "b106b694-28d5-4925-b36e-e93a6669edeb"
      },
      "cell_type": "code",
      "source": [
        "df[' Label'].value_counts()"
      ],
      "execution_count": 13,
      "outputs": [
        {
          "output_type": "execute_result",
          "data": {
            "text/plain": [
              "BENIGN                        2271320\n",
              "DoS Hulk                       230124\n",
              "PortScan                       158804\n",
              "DDoS                           128025\n",
              "DoS GoldenEye                   10293\n",
              "FTP-Patator                      7935\n",
              "SSH-Patator                      5897\n",
              "DoS slowloris                    5796\n",
              "DoS Slowhttptest                 5499\n",
              "Bot                              1956\n",
              "Web Attack � Brute Force         1507\n",
              "Web Attack � XSS                  652\n",
              "Infiltration                       36\n",
              "Web Attack � Sql Injection         21\n",
              "Heartbleed                         11\n",
              "Name:  Label, dtype: int64"
            ]
          },
          "metadata": {
            "tags": []
          },
          "execution_count": 13
        }
      ]
    },
    {
      "metadata": {
        "id": "cSyyRFEwfWv4",
        "colab_type": "code",
        "colab": {
          "base_uri": "https://localhost:8080/",
          "height": 69
        },
        "outputId": "0ad2ba49-cdff-42ad-d234-397fc6cdc920"
      },
      "cell_type": "code",
      "source": [
        "df['Class'].value_counts()"
      ],
      "execution_count": 14,
      "outputs": [
        {
          "output_type": "execute_result",
          "data": {
            "text/plain": [
              "0    2271320\n",
              "1     556556\n",
              "Name: Class, dtype: int64"
            ]
          },
          "metadata": {
            "tags": []
          },
          "execution_count": 14
        }
      ]
    },
    {
      "metadata": {
        "id": "lKPZbq_ZfWwA",
        "colab_type": "code",
        "colab": {
          "base_uri": "https://localhost:8080/",
          "height": 1092
        },
        "outputId": "f104766c-691c-4a36-efe7-a5c929116d0a"
      },
      "cell_type": "code",
      "source": [
        "corr_matrix = df.corr()\n",
        "print(corr_matrix[\"Class\"].sort_values(ascending=False))\n",
        "y = df['Class']\n",
        "X = df.drop(['Class', ' Label'], axis=1)"
      ],
      "execution_count": 15,
      "outputs": [
        {
          "output_type": "stream",
          "text": [
            "Class                          1.000000\n",
            " Bwd Packet Length Std         0.510884\n",
            "Bwd Packet Length Max          0.492690\n",
            " Bwd Packet Length Mean        0.484904\n",
            " Avg Bwd Segment Size          0.484904\n",
            " Packet Length Std             0.470928\n",
            " Max Packet Length             0.454715\n",
            " Packet Length Variance        0.454397\n",
            " Fwd IAT Std                   0.423303\n",
            " Packet Length Mean            0.414750\n",
            " Average Packet Size           0.413740\n",
            " Idle Max                      0.394752\n",
            "Idle Mean                      0.390996\n",
            " Flow IAT Max                  0.389205\n",
            " Fwd IAT Max                   0.389176\n",
            " Idle Min                      0.381160\n",
            " Flow IAT Std                  0.337203\n",
            "Fwd IAT Total                  0.215876\n",
            " Flow Duration                 0.214274\n",
            "FIN Flag Count                 0.189587\n",
            " PSH Flag Count                0.177193\n",
            " Flow IAT Mean                 0.174783\n",
            " Bwd IAT Std                   0.158856\n",
            " Fwd IAT Mean                  0.150725\n",
            " ACK Flag Count                0.125135\n",
            " Bwd IAT Max                   0.110563\n",
            " Idle Std                      0.106937\n",
            " Flow Packets/s                0.048243\n",
            "Fwd Packets/s                  0.044479\n",
            " Bwd Packets/s                 0.031953\n",
            "                                 ...   \n",
            " ECE Flag Count               -0.007728\n",
            "Total Length of Fwd Packets   -0.017411\n",
            " Subflow Fwd Bytes            -0.017434\n",
            " Active Max                   -0.017792\n",
            "Bwd IAT Total                 -0.018807\n",
            "Flow Bytes/s                  -0.022438\n",
            " Active Std                   -0.027392\n",
            " Fwd IAT Min                  -0.027722\n",
            " Bwd IAT Min                  -0.036954\n",
            " Fwd Packet Length Std        -0.040459\n",
            " Down/Up Ratio                -0.051440\n",
            " Fwd Packet Length Max        -0.064065\n",
            " SYN Flag Count               -0.080801\n",
            "Fwd PSH Flags                 -0.080801\n",
            " Fwd Packet Length Mean       -0.088826\n",
            " Avg Fwd Segment Size         -0.088826\n",
            " Init_Win_bytes_backward      -0.099001\n",
            " Fwd Packet Length Min        -0.136490\n",
            " URG Flag Count               -0.145577\n",
            " Destination Port             -0.148514\n",
            " Bwd Packet Length Min        -0.281884\n",
            " Min Packet Length            -0.303136\n",
            " Bwd PSH Flags                      NaN\n",
            " Bwd URG Flags                      NaN\n",
            "Fwd Avg Bytes/Bulk                  NaN\n",
            " Fwd Avg Packets/Bulk               NaN\n",
            " Fwd Avg Bulk Rate                  NaN\n",
            " Bwd Avg Bytes/Bulk                 NaN\n",
            " Bwd Avg Packets/Bulk               NaN\n",
            "Bwd Avg Bulk Rate                   NaN\n",
            "Name: Class, Length: 79, dtype: float64\n"
          ],
          "name": "stdout"
        }
      ]
    },
    {
      "metadata": {
        "id": "zJXztEoBfWwJ",
        "colab_type": "code",
        "colab": {
          "base_uri": "https://localhost:8080/",
          "height": 69
        },
        "outputId": "959b781d-73b2-41dc-d787-68a5e3f5cee3"
      },
      "cell_type": "code",
      "source": [
        "import numpy as np\n",
        "df_Norm = df.drop([' Label'], axis=1)\n",
        "# Number of data points in the minority class\n",
        "number_records_fraud = len(df_Norm[df_Norm.Class == 1])\n",
        "fraud_indices = np.array(df_Norm[df_Norm.Class == 1].index)\n",
        "\n",
        "# Picking the indices of the normal classes\n",
        "normal_indices = df_Norm[df_Norm.Class == 0].index\n",
        "\n",
        "# Out of the indices we picked, randomly select \"x\" number (number_records_fraud)\n",
        "random_normal_indices = np.random.choice(normal_indices, number_records_fraud, replace = False)\n",
        "random_normal_indices = np.array(random_normal_indices)\n",
        "\n",
        "# Appending the 2 indices\n",
        "under_sample_indices = np.concatenate([fraud_indices,random_normal_indices])\n",
        "\n",
        "# Under sample dataset\n",
        "under_sample_data = df_Norm.iloc[under_sample_indices,:]\n",
        "\n",
        "X_undersample = under_sample_data.iloc[:, under_sample_data.columns != 'Class']\n",
        "y_undersample = under_sample_data.iloc[:, under_sample_data.columns == 'Class']\n",
        "\n",
        "# Showing ratio\n",
        "print(\"Percentage of Benign Cases: \", len(under_sample_data[under_sample_data.Class == 0])/len(under_sample_data))\n",
        "print(\"Percentage of Malicious Activity: \", len(under_sample_data[under_sample_data.Class == 1])/len(under_sample_data))\n",
        "print(\"Total number of cases: \", len(under_sample_data))\n"
      ],
      "execution_count": 16,
      "outputs": [
        {
          "output_type": "stream",
          "text": [
            "Percentage of Benign Cases:  0.46507988414463236\n",
            "Percentage of Malicious Activity:  0.5349201158553677\n",
            "Total number of cases:  1113112\n"
          ],
          "name": "stdout"
        }
      ]
    },
    {
      "metadata": {
        "id": "pjlXJ-UdfWwU",
        "colab_type": "code",
        "colab": {
          "base_uri": "https://localhost:8080/",
          "height": 1092
        },
        "outputId": "23ec0d74-61ee-41a3-fa4a-85f5516ac2b0"
      },
      "cell_type": "code",
      "source": [
        "X_undersample.dtypes"
      ],
      "execution_count": 17,
      "outputs": [
        {
          "output_type": "execute_result",
          "data": {
            "text/plain": [
              " Destination Port                 int64\n",
              " Flow Duration                    int64\n",
              " Total Fwd Packets                int64\n",
              " Total Backward Packets           int64\n",
              "Total Length of Fwd Packets       int64\n",
              " Total Length of Bwd Packets      int64\n",
              " Fwd Packet Length Max            int64\n",
              " Fwd Packet Length Min            int64\n",
              " Fwd Packet Length Mean         float64\n",
              " Fwd Packet Length Std          float64\n",
              "Bwd Packet Length Max             int64\n",
              " Bwd Packet Length Min            int64\n",
              " Bwd Packet Length Mean         float64\n",
              " Bwd Packet Length Std          float64\n",
              "Flow Bytes/s                    float64\n",
              " Flow Packets/s                 float64\n",
              " Flow IAT Mean                  float64\n",
              " Flow IAT Std                   float64\n",
              " Flow IAT Max                     int64\n",
              " Flow IAT Min                     int64\n",
              "Fwd IAT Total                     int64\n",
              " Fwd IAT Mean                   float64\n",
              " Fwd IAT Std                    float64\n",
              " Fwd IAT Max                      int64\n",
              " Fwd IAT Min                      int64\n",
              "Bwd IAT Total                     int64\n",
              " Bwd IAT Mean                   float64\n",
              " Bwd IAT Std                    float64\n",
              " Bwd IAT Max                      int64\n",
              " Bwd IAT Min                      int64\n",
              "                                 ...   \n",
              " URG Flag Count                   int64\n",
              " CWE Flag Count                   int64\n",
              " ECE Flag Count                   int64\n",
              " Down/Up Ratio                    int64\n",
              " Average Packet Size            float64\n",
              " Avg Fwd Segment Size           float64\n",
              " Avg Bwd Segment Size           float64\n",
              " Fwd Header Length.1              int64\n",
              "Fwd Avg Bytes/Bulk                int64\n",
              " Fwd Avg Packets/Bulk             int64\n",
              " Fwd Avg Bulk Rate                int64\n",
              " Bwd Avg Bytes/Bulk               int64\n",
              " Bwd Avg Packets/Bulk             int64\n",
              "Bwd Avg Bulk Rate                 int64\n",
              "Subflow Fwd Packets               int64\n",
              " Subflow Fwd Bytes                int64\n",
              " Subflow Bwd Packets              int64\n",
              " Subflow Bwd Bytes                int64\n",
              "Init_Win_bytes_forward            int64\n",
              " Init_Win_bytes_backward          int64\n",
              " act_data_pkt_fwd                 int64\n",
              " min_seg_size_forward             int64\n",
              "Active Mean                     float64\n",
              " Active Std                     float64\n",
              " Active Max                       int64\n",
              " Active Min                       int64\n",
              "Idle Mean                       float64\n",
              " Idle Std                       float64\n",
              " Idle Max                         int64\n",
              " Idle Min                         int64\n",
              "Length: 78, dtype: object"
            ]
          },
          "metadata": {
            "tags": []
          },
          "execution_count": 17
        }
      ]
    },
    {
      "metadata": {
        "id": "RDEzUhtCfWwc",
        "colab_type": "code",
        "colab": {}
      },
      "cell_type": "code",
      "source": [
        "from sklearn import preprocessing\n",
        "\n",
        "X = X_undersample.values #returns a numpy array\n",
        "min_max_scaler = preprocessing.MinMaxScaler()\n",
        "x_scaled = min_max_scaler.fit_transform(X)\n",
        "X_undersample_Norm = pd.DataFrame(x_scaled)"
      ],
      "execution_count": 0,
      "outputs": []
    },
    {
      "metadata": {
        "id": "Y5izYoy0fWwk",
        "colab_type": "code",
        "colab": {
          "base_uri": "https://localhost:8080/",
          "height": 87
        },
        "outputId": "6a5453d7-af4e-4e78-8cf2-94b96e8be280"
      },
      "cell_type": "code",
      "source": [
        "from sklearn.model_selection import train_test_split\n",
        "\n",
        "# Undersampled dataset\n",
        "X_train_undersample, X_test_undersample, y_train_undersample, y_test_undersample = train_test_split(X_undersample_Norm\n",
        "                                                                                                   ,y_undersample\n",
        "                                                                                                   ,test_size = 0.2\n",
        "                                                                                                   ,random_state = 0)\n",
        "print(\"\")\n",
        "print(\"Rows in training undersample dataset: \", len(X_train_undersample))\n",
        "print(\"Rows in test undersample dataset: \", len(X_test_undersample))\n",
        "print(\"Total number: \", len(X_train_undersample)+len(X_test_undersample))"
      ],
      "execution_count": 20,
      "outputs": [
        {
          "output_type": "stream",
          "text": [
            "\n",
            "Rows in training undersample dataset:  890489\n",
            "Rows in test undersample dataset:  222623\n",
            "Total number:  1113112\n"
          ],
          "name": "stdout"
        }
      ]
    },
    {
      "metadata": {
        "id": "WYcNuSTVfWwp",
        "colab_type": "code",
        "colab": {
          "base_uri": "https://localhost:8080/",
          "height": 52
        },
        "outputId": "bc472304-3b83-406c-bad4-27488dda23d2"
      },
      "cell_type": "code",
      "source": [
        "from sklearn.neighbors import KNeighborsClassifier\n",
        "from sklearn.metrics import confusion_matrix,precision_recall_curve,auc,roc_auc_score,roc_curve,recall_score,classification_report,accuracy_score \n",
        "neigh = KNeighborsClassifier(n_neighbors=3)\n",
        "neigh.fit(X_train_undersample,y_train_undersample.values.ravel())\n",
        "cnf_matrix = confusion_matrix(y_test_undersample,y_pred_undersample)\n",
        "\n",
        "print(\"Recall: \", cnf_matrix[1,1]/(cnf_matrix[1,0]+cnf_matrix[1,1]))\n",
        "print(\"Accuracy\" ,accuracy_score(y_test_undersample,y_pred_undersample))"
      ],
      "execution_count": 24,
      "outputs": [
        {
          "output_type": "stream",
          "text": [
            "Recall:  0.9966662467985052\n",
            "Accuracy 0.9778234953261792\n"
          ],
          "name": "stdout"
        }
      ]
    },
    {
      "metadata": {
        "id": "Lo5qphYhvPbj",
        "colab_type": "code",
        "colab": {
          "base_uri": "https://localhost:8080/",
          "height": 347
        },
        "outputId": "c0f61680-e78c-44df-d9d9-a4c7da60b35d"
      },
      "cell_type": "code",
      "source": [
        "from sklearn import metrics\n",
        "import matplotlib.pyplot as plt\n",
        "fpr, tpr, _ = metrics.roc_curve(y_test_undersample,y_pred_undersample)\n",
        "auc = metrics.roc_auc_score(y_test_undersample,y_pred_undersample)\n",
        "plt.plot(fpr,tpr,label=\"data 1, auc=\"+str(auc))\n",
        "plt.legend(loc=4)\n",
        "plt.show()"
      ],
      "execution_count": 30,
      "outputs": [
        {
          "output_type": "display_data",
          "data": {
            "image/png": "[encoded data removed]",
            "text/plain": [
              "<Figure size 576x396 with 1 Axes>"
            ]
          },
          "metadata": {
            "tags": []
          }
        }
      ]
    },
    {
      "metadata": {
        "id": "Ffq_V9Cv2laT",
        "colab_type": "code",
        "colab": {}
      },
      "cell_type": "code",
      "source": [
        ""
      ],
      "execution_count": 0,
      "outputs": []
    }
  ]
}