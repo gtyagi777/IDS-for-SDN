{
 "cells": [
  {
   "cell_type": "code",
   "execution_count": 1,
   "metadata": {},
   "outputs": [],
   "source": [
    "import pandas as pd\n",
    "\n",
    "df = pd.read_pickle('./df_attack_combined.pkl')\n"
   ]
  },
  {
   "cell_type": "code",
   "execution_count": 2,
   "metadata": {},
   "outputs": [],
   "source": [
    "df = df.drop([' Label'], axis =1)\n",
    "\n",
    "X = df.iloc[:, df.columns != 'Class']\n",
    "y = df.iloc[:, df.columns == 'Class']\n",
    "\n",
    "from sklearn import preprocessing\n",
    "\n",
    "\n",
    "min_max_scaler = preprocessing.MinMaxScaler()\n",
    "x_scaled = min_max_scaler.fit_transform(X)\n",
    "X_undersample_Norm = pd.DataFrame(x_scaled)"
   ]
  },
  {
   "cell_type": "code",
   "execution_count": 3,
   "metadata": {},
   "outputs": [
    {
     "name": "stdout",
     "output_type": "stream",
     "text": [
      "\n",
      "Rows in training undersample dataset:  445244\n",
      "Rows in test undersample dataset:  111312\n",
      "Total number:  556556\n"
     ]
    }
   ],
   "source": [
    "from sklearn.model_selection import train_test_split\n",
    "\n",
    "# Undersampled dataset\n",
    "X_train, X_test, y_train, y_test = train_test_split(x_scaled,y,test_size = 0.2,random_state = 0)\n",
    "print(\"\")\n",
    "print(\"Rows in training undersample dataset: \", len(X_train))\n",
    "print(\"Rows in test undersample dataset: \", len(X_test))\n",
    "print(\"Total number: \", len(X_train)+len(X_test))"
   ]
  },
  {
   "cell_type": "code",
   "execution_count": 5,
   "metadata": {},
   "outputs": [
    {
     "data": {
      "text/html": [
       "<div>\n",
       "<style scoped>\n",
       "    .dataframe tbody tr th:only-of-type {\n",
       "        vertical-align: middle;\n",
       "    }\n",
       "\n",
       "    .dataframe tbody tr th {\n",
       "        vertical-align: top;\n",
       "    }\n",
       "\n",
       "    .dataframe thead th {\n",
       "        text-align: right;\n",
       "    }\n",
       "</style>\n",
       "<table border=\"1\" class=\"dataframe\">\n",
       "  <thead>\n",
       "    <tr style=\"text-align: right;\">\n",
       "      <th></th>\n",
       "      <th>Class</th>\n",
       "    </tr>\n",
       "  </thead>\n",
       "  <tbody>\n",
       "    <tr>\n",
       "      <th>183318</th>\n",
       "      <td>DoS/DDoS</td>\n",
       "    </tr>\n",
       "    <tr>\n",
       "      <th>221516</th>\n",
       "      <td>PortScan</td>\n",
       "    </tr>\n",
       "    <tr>\n",
       "      <th>275089</th>\n",
       "      <td>PortScan</td>\n",
       "    </tr>\n",
       "    <tr>\n",
       "      <th>133110</th>\n",
       "      <td>DoS/DDoS</td>\n",
       "    </tr>\n",
       "    <tr>\n",
       "      <th>43384</th>\n",
       "      <td>DoS/DDoS</td>\n",
       "    </tr>\n",
       "    <tr>\n",
       "      <th>212223</th>\n",
       "      <td>PortScan</td>\n",
       "    </tr>\n",
       "    <tr>\n",
       "      <th>286602</th>\n",
       "      <td>DoS/DDoS</td>\n",
       "    </tr>\n",
       "    <tr>\n",
       "      <th>125525</th>\n",
       "      <td>DoS/DDoS</td>\n",
       "    </tr>\n",
       "    <tr>\n",
       "      <th>215985</th>\n",
       "      <td>DoS/DDoS</td>\n",
       "    </tr>\n",
       "    <tr>\n",
       "      <th>253640</th>\n",
       "      <td>DoS/DDoS</td>\n",
       "    </tr>\n",
       "    <tr>\n",
       "      <th>205799</th>\n",
       "      <td>DoS/DDoS</td>\n",
       "    </tr>\n",
       "    <tr>\n",
       "      <th>177420</th>\n",
       "      <td>PortScan</td>\n",
       "    </tr>\n",
       "    <tr>\n",
       "      <th>166118</th>\n",
       "      <td>DoS/DDoS</td>\n",
       "    </tr>\n",
       "    <tr>\n",
       "      <th>177641</th>\n",
       "      <td>DoS/DDoS</td>\n",
       "    </tr>\n",
       "    <tr>\n",
       "      <th>264880</th>\n",
       "      <td>DoS/DDoS</td>\n",
       "    </tr>\n",
       "    <tr>\n",
       "      <th>118465</th>\n",
       "      <td>DoS/DDoS</td>\n",
       "    </tr>\n",
       "    <tr>\n",
       "      <th>166036</th>\n",
       "      <td>DoS/DDoS</td>\n",
       "    </tr>\n",
       "    <tr>\n",
       "      <th>148846</th>\n",
       "      <td>DoS/DDoS</td>\n",
       "    </tr>\n",
       "    <tr>\n",
       "      <th>63610</th>\n",
       "      <td>DoS/DDoS</td>\n",
       "    </tr>\n",
       "    <tr>\n",
       "      <th>194533</th>\n",
       "      <td>Brute Force</td>\n",
       "    </tr>\n",
       "    <tr>\n",
       "      <th>115953</th>\n",
       "      <td>PortScan</td>\n",
       "    </tr>\n",
       "    <tr>\n",
       "      <th>292145</th>\n",
       "      <td>DoS/DDoS</td>\n",
       "    </tr>\n",
       "    <tr>\n",
       "      <th>138707</th>\n",
       "      <td>PortScan</td>\n",
       "    </tr>\n",
       "    <tr>\n",
       "      <th>301243</th>\n",
       "      <td>DoS/DDoS</td>\n",
       "    </tr>\n",
       "    <tr>\n",
       "      <th>156000</th>\n",
       "      <td>PortScan</td>\n",
       "    </tr>\n",
       "    <tr>\n",
       "      <th>116468</th>\n",
       "      <td>PortScan</td>\n",
       "    </tr>\n",
       "    <tr>\n",
       "      <th>158170</th>\n",
       "      <td>DoS/DDoS</td>\n",
       "    </tr>\n",
       "    <tr>\n",
       "      <th>155675</th>\n",
       "      <td>DoS/DDoS</td>\n",
       "    </tr>\n",
       "    <tr>\n",
       "      <th>160657</th>\n",
       "      <td>PortScan</td>\n",
       "    </tr>\n",
       "    <tr>\n",
       "      <th>288173</th>\n",
       "      <td>DoS/DDoS</td>\n",
       "    </tr>\n",
       "    <tr>\n",
       "      <th>...</th>\n",
       "      <td>...</td>\n",
       "    </tr>\n",
       "    <tr>\n",
       "      <th>287259</th>\n",
       "      <td>DoS/DDoS</td>\n",
       "    </tr>\n",
       "    <tr>\n",
       "      <th>377656</th>\n",
       "      <td>Brute Force</td>\n",
       "    </tr>\n",
       "    <tr>\n",
       "      <th>143939</th>\n",
       "      <td>DoS/DDoS</td>\n",
       "    </tr>\n",
       "    <tr>\n",
       "      <th>133384</th>\n",
       "      <td>DoS/DDoS</td>\n",
       "    </tr>\n",
       "    <tr>\n",
       "      <th>143629</th>\n",
       "      <td>PortScan</td>\n",
       "    </tr>\n",
       "    <tr>\n",
       "      <th>188912</th>\n",
       "      <td>DoS/DDoS</td>\n",
       "    </tr>\n",
       "    <tr>\n",
       "      <th>242383</th>\n",
       "      <td>DoS/DDoS</td>\n",
       "    </tr>\n",
       "    <tr>\n",
       "      <th>84874</th>\n",
       "      <td>DoS/DDoS</td>\n",
       "    </tr>\n",
       "    <tr>\n",
       "      <th>192575</th>\n",
       "      <td>PortScan</td>\n",
       "    </tr>\n",
       "    <tr>\n",
       "      <th>685855</th>\n",
       "      <td>DoS/DDoS</td>\n",
       "    </tr>\n",
       "    <tr>\n",
       "      <th>132497</th>\n",
       "      <td>DoS/DDoS</td>\n",
       "    </tr>\n",
       "    <tr>\n",
       "      <th>207369</th>\n",
       "      <td>DoS/DDoS</td>\n",
       "    </tr>\n",
       "    <tr>\n",
       "      <th>106256</th>\n",
       "      <td>DoS/DDoS</td>\n",
       "    </tr>\n",
       "    <tr>\n",
       "      <th>306457</th>\n",
       "      <td>DoS/DDoS</td>\n",
       "    </tr>\n",
       "    <tr>\n",
       "      <th>196292</th>\n",
       "      <td>DoS/DDoS</td>\n",
       "    </tr>\n",
       "    <tr>\n",
       "      <th>91949</th>\n",
       "      <td>DoS/DDoS</td>\n",
       "    </tr>\n",
       "    <tr>\n",
       "      <th>219122</th>\n",
       "      <td>PortScan</td>\n",
       "    </tr>\n",
       "    <tr>\n",
       "      <th>132631</th>\n",
       "      <td>DoS/DDoS</td>\n",
       "    </tr>\n",
       "    <tr>\n",
       "      <th>323892</th>\n",
       "      <td>DoS/DDoS</td>\n",
       "    </tr>\n",
       "    <tr>\n",
       "      <th>130476</th>\n",
       "      <td>PortScan</td>\n",
       "    </tr>\n",
       "    <tr>\n",
       "      <th>69392</th>\n",
       "      <td>DoS/DDoS</td>\n",
       "    </tr>\n",
       "    <tr>\n",
       "      <th>136611</th>\n",
       "      <td>DoS/DDoS</td>\n",
       "    </tr>\n",
       "    <tr>\n",
       "      <th>215020</th>\n",
       "      <td>DoS/DDoS</td>\n",
       "    </tr>\n",
       "    <tr>\n",
       "      <th>189347</th>\n",
       "      <td>DoS/DDoS</td>\n",
       "    </tr>\n",
       "    <tr>\n",
       "      <th>404794</th>\n",
       "      <td>Brute Force</td>\n",
       "    </tr>\n",
       "    <tr>\n",
       "      <th>120870</th>\n",
       "      <td>DoS/DDoS</td>\n",
       "    </tr>\n",
       "    <tr>\n",
       "      <th>111956</th>\n",
       "      <td>PortScan</td>\n",
       "    </tr>\n",
       "    <tr>\n",
       "      <th>181881</th>\n",
       "      <td>DoS/DDoS</td>\n",
       "    </tr>\n",
       "    <tr>\n",
       "      <th>201508</th>\n",
       "      <td>DoS/DDoS</td>\n",
       "    </tr>\n",
       "    <tr>\n",
       "      <th>33750</th>\n",
       "      <td>DoS/DDoS</td>\n",
       "    </tr>\n",
       "  </tbody>\n",
       "</table>\n",
       "<p>445244 rows × 1 columns</p>\n",
       "</div>"
      ],
      "text/plain": [
       "              Class\n",
       "183318     DoS/DDoS\n",
       "221516     PortScan\n",
       "275089     PortScan\n",
       "133110     DoS/DDoS\n",
       "43384      DoS/DDoS\n",
       "212223     PortScan\n",
       "286602     DoS/DDoS\n",
       "125525     DoS/DDoS\n",
       "215985     DoS/DDoS\n",
       "253640     DoS/DDoS\n",
       "205799     DoS/DDoS\n",
       "177420     PortScan\n",
       "166118     DoS/DDoS\n",
       "177641     DoS/DDoS\n",
       "264880     DoS/DDoS\n",
       "118465     DoS/DDoS\n",
       "166036     DoS/DDoS\n",
       "148846     DoS/DDoS\n",
       "63610      DoS/DDoS\n",
       "194533  Brute Force\n",
       "115953     PortScan\n",
       "292145     DoS/DDoS\n",
       "138707     PortScan\n",
       "301243     DoS/DDoS\n",
       "156000     PortScan\n",
       "116468     PortScan\n",
       "158170     DoS/DDoS\n",
       "155675     DoS/DDoS\n",
       "160657     PortScan\n",
       "288173     DoS/DDoS\n",
       "...             ...\n",
       "287259     DoS/DDoS\n",
       "377656  Brute Force\n",
       "143939     DoS/DDoS\n",
       "133384     DoS/DDoS\n",
       "143629     PortScan\n",
       "188912     DoS/DDoS\n",
       "242383     DoS/DDoS\n",
       "84874      DoS/DDoS\n",
       "192575     PortScan\n",
       "685855     DoS/DDoS\n",
       "132497     DoS/DDoS\n",
       "207369     DoS/DDoS\n",
       "106256     DoS/DDoS\n",
       "306457     DoS/DDoS\n",
       "196292     DoS/DDoS\n",
       "91949      DoS/DDoS\n",
       "219122     PortScan\n",
       "132631     DoS/DDoS\n",
       "323892     DoS/DDoS\n",
       "130476     PortScan\n",
       "69392      DoS/DDoS\n",
       "136611     DoS/DDoS\n",
       "215020     DoS/DDoS\n",
       "189347     DoS/DDoS\n",
       "404794  Brute Force\n",
       "120870     DoS/DDoS\n",
       "111956     PortScan\n",
       "181881     DoS/DDoS\n",
       "201508     DoS/DDoS\n",
       "33750      DoS/DDoS\n",
       "\n",
       "[445244 rows x 1 columns]"
      ]
     },
     "execution_count": 5,
     "metadata": {},
     "output_type": "execute_result"
    }
   ],
   "source": [
    "y_train"
   ]
  },
  {
   "cell_type": "code",
   "execution_count": 51,
   "metadata": {},
   "outputs": [
    {
     "name": "stderr",
     "output_type": "stream",
     "text": [
      "C:\\Users\\tyagi\\Anaconda3\\lib\\site-packages\\ipykernel_launcher.py:4: DataConversionWarning: A column-vector y was passed when a 1d array was expected. Please change the shape of y to (n_samples, ), for example using ravel().\n",
      "  after removing the cwd from sys.path.\n"
     ]
    }
   ],
   "source": [
    "from sklearn.neighbors import KNeighborsClassifier\n",
    "from sklearn.metrics import confusion_matrix,precision_recall_curve,auc,roc_auc_score,roc_curve,recall_score,classification_report,accuracy_score \n",
    "neigh = KNeighborsClassifier(n_neighbors=3)\n",
    "neigh.fit(X_train,y_train)\n",
    "y_pred = neigh.predict(X_test)\n",
    "cnf_matrix = confusion_matrix(y_test,y_pred)"
   ]
  },
  {
   "cell_type": "code",
   "execution_count": 52,
   "metadata": {},
   "outputs": [
    {
     "name": "stdout",
     "output_type": "stream",
     "text": [
      "[385   0   0   0   0   0]\n",
      "[   1 2780    4    0    0    0]\n",
      "[    1     0 76061     0     1     2]\n",
      "[0 0 1 3 0 0]\n",
      "[    0     0     7     0 31614     0]\n",
      "[  0   5   8   0   2 437]\n"
     ]
    }
   ],
   "source": [
    "for i in cnf_matrix:\n",
    "    print(i)"
   ]
  },
  {
   "cell_type": "code",
   "execution_count": 53,
   "metadata": {},
   "outputs": [
    {
     "data": {
      "text/plain": [
       "0.9997125197642662"
      ]
     },
     "execution_count": 53,
     "metadata": {},
     "output_type": "execute_result"
    }
   ],
   "source": [
    "from sklearn.metrics import accuracy_score\n",
    "accuracy_score(y_test,y_pred)"
   ]
  },
  {
   "cell_type": "code",
   "execution_count": 54,
   "metadata": {},
   "outputs": [
    {
     "data": {
      "text/plain": [
       "0.999710795689818"
      ]
     },
     "execution_count": 54,
     "metadata": {},
     "output_type": "execute_result"
    }
   ],
   "source": [
    "from sklearn.metrics import f1_score\n",
    "f1_score(y_test, y_pred, average='weighted') "
   ]
  },
  {
   "cell_type": "code",
   "execution_count": null,
   "metadata": {},
   "outputs": [],
   "source": [
    "import numpy as np\n",
    "from sklearn.model_selection import GridSearchCV\n",
    "from sklearn.linear_model import LogisticRegression\n",
    "grid={\"C\":np.logspace(-1,2,1), \"penalty\":[\"l1\",\"l2\"]}# l1 lasso l2 ridge\n",
    "LR=LogisticRegression()\n",
    "LR_C=GridSearchCV(LR,grid,cv=2)\n",
    "LR_C.fit(X_train,y_train)\n",
    "c_value = LR_C.best_params_['C']\n",
    "penalty_value = LR_C.best_params_['penalty']\n",
    "\n",
    "print (\"tuned hpyerparameters :(best parameters) \",LR_C.best_params_)\n",
    "print (\"accuracy :\",LR_C.best_score_)"
   ]
  },
  {
   "cell_type": "code",
   "execution_count": 55,
   "metadata": {},
   "outputs": [
    {
     "name": "stderr",
     "output_type": "stream",
     "text": [
      "C:\\Users\\tyagi\\Anaconda3\\lib\\site-packages\\sklearn\\utils\\validation.py:578: DataConversionWarning: A column-vector y was passed when a 1d array was expected. Please change the shape of y to (n_samples, ), for example using ravel().\n",
      "  y = column_or_1d(y, warn=True)\n"
     ]
    }
   ],
   "source": [
    "from sklearn.cross_validation import KFold, cross_val_score\n",
    "from sklearn.metrics import confusion_matrix,precision_recall_curve,auc,roc_auc_score,roc_curve,recall_score,classification_report,accuracy_score \n",
    "lr = LogisticRegression(C = 0.1, penalty = 'l1')\n",
    "lr.fit(X_train,y_train)\n",
    "y_pred_undersample = lr.predict(X_test)\n"
   ]
  },
  {
   "cell_type": "code",
   "execution_count": 56,
   "metadata": {},
   "outputs": [
    {
     "data": {
      "text/plain": [
       "0.9951847060514589"
      ]
     },
     "execution_count": 56,
     "metadata": {},
     "output_type": "execute_result"
    }
   ],
   "source": [
    "\n",
    "cnf_matrix = confusion_matrix(y_test,y_pred_undersample)\n",
    "\n",
    "from sklearn.metrics import accuracy_score\n",
    "accuracy_score(y_test,y_pred_undersample)\n"
   ]
  },
  {
   "cell_type": "code",
   "execution_count": 57,
   "metadata": {},
   "outputs": [
    {
     "name": "stderr",
     "output_type": "stream",
     "text": [
      "C:\\Users\\tyagi\\Anaconda3\\lib\\site-packages\\sklearn\\metrics\\classification.py:1135: UndefinedMetricWarning: F-score is ill-defined and being set to 0.0 in labels with no predicted samples.\n",
      "  'precision', 'predicted', average, warn_for)\n"
     ]
    },
    {
     "data": {
      "text/plain": [
       "0.9951150903309514"
      ]
     },
     "execution_count": 57,
     "metadata": {},
     "output_type": "execute_result"
    }
   ],
   "source": [
    "from sklearn.metrics import f1_score\n",
    "f1_score(y_test, y_pred_undersample, average='weighted') "
   ]
  },
  {
   "cell_type": "code",
   "execution_count": 58,
   "metadata": {},
   "outputs": [],
   "source": [
    "from sklearn import tree\n",
    "clf = tree.DecisionTreeClassifier()\n",
    "clf = clf.fit(X_train,y_train)"
   ]
  },
  {
   "cell_type": "code",
   "execution_count": 59,
   "metadata": {},
   "outputs": [],
   "source": [
    "y_pred = clf.predict(X_test)"
   ]
  },
  {
   "cell_type": "code",
   "execution_count": 60,
   "metadata": {},
   "outputs": [
    {
     "data": {
      "text/plain": [
       "0.9997304872789996"
      ]
     },
     "execution_count": 60,
     "metadata": {},
     "output_type": "execute_result"
    }
   ],
   "source": [
    "from sklearn.metrics import accuracy_score\n",
    "accuracy_score(y_test,y_pred)"
   ]
  },
  {
   "cell_type": "code",
   "execution_count": 61,
   "metadata": {},
   "outputs": [
    {
     "data": {
      "text/plain": [
       "0.9997291375476492"
      ]
     },
     "execution_count": 61,
     "metadata": {},
     "output_type": "execute_result"
    }
   ],
   "source": [
    "from sklearn.metrics import f1_score\n",
    "f1_score(y_test, y_pred, average='weighted') "
   ]
  },
  {
   "cell_type": "code",
   "execution_count": 62,
   "metadata": {},
   "outputs": [
    {
     "name": "stdout",
     "output_type": "stream",
     "text": [
      "[[0 0 1 0 0 0]\n",
      " [0 0 1 0 0 0]\n",
      " [0 0 1 0 0 0]\n",
      " ...\n",
      " [0 0 1 0 0 0]\n",
      " [0 0 1 0 0 0]\n",
      " [0 0 1 0 0 0]]\n",
      "\n",
      "Rows in training undersample dataset:  445244\n",
      "Rows in test undersample dataset:  111312\n",
      "Total number:  556556\n"
     ]
    }
   ],
   "source": [
    "from sklearn.preprocessing import LabelBinarizer\n",
    "encoder = LabelBinarizer()\n",
    "transfomed_label = encoder.fit_transform(y)\n",
    "print(transfomed_label)\n",
    "\n",
    "from sklearn.model_selection import train_test_split\n",
    "\n",
    "# Undersampled dataset\n",
    "X_train, X_test, y_train, y_test = train_test_split(x_scaled,transfomed_label,test_size = 0.2,random_state = 0)\n",
    "print(\"\")\n",
    "print(\"Rows in training undersample dataset: \", len(X_train))\n",
    "print(\"Rows in test undersample dataset: \", len(X_test))\n",
    "print(\"Total number: \", len(X_train)+len(X_test))"
   ]
  },
  {
   "cell_type": "code",
   "execution_count": 63,
   "metadata": {},
   "outputs": [
    {
     "name": "stdout",
     "output_type": "stream",
     "text": [
      "_________________________________________________________________\n",
      "Layer (type)                 Output Shape              Param #   \n",
      "=================================================================\n",
      "dense_78 (Dense)             (None, 78)                6162      \n",
      "_________________________________________________________________\n",
      "dropout_48 (Dropout)         (None, 78)                0         \n",
      "_________________________________________________________________\n",
      "dense_79 (Dense)             (None, 200)               15800     \n",
      "_________________________________________________________________\n",
      "dropout_49 (Dropout)         (None, 200)               0         \n",
      "_________________________________________________________________\n",
      "dense_80 (Dense)             (None, 200)               40200     \n",
      "_________________________________________________________________\n",
      "dropout_50 (Dropout)         (None, 200)               0         \n",
      "_________________________________________________________________\n",
      "dense_81 (Dense)             (None, 200)               40200     \n",
      "_________________________________________________________________\n",
      "dropout_51 (Dropout)         (None, 200)               0         \n",
      "_________________________________________________________________\n",
      "dense_82 (Dense)             (None, 200)               40200     \n",
      "_________________________________________________________________\n",
      "dropout_52 (Dropout)         (None, 200)               0         \n",
      "_________________________________________________________________\n",
      "dense_83 (Dense)             (None, 78)                15678     \n",
      "_________________________________________________________________\n",
      "dense_84 (Dense)             (None, 6)                 474       \n",
      "=================================================================\n",
      "Total params: 158,714\n",
      "Trainable params: 158,714\n",
      "Non-trainable params: 0\n",
      "_________________________________________________________________\n",
      "Train on 445244 samples, validate on 111312 samples\n",
      "Epoch 1/50\n",
      "445244/445244 [==============================] - 80s 179us/step - loss: 0.0106 - acc: 0.9969 - val_loss: 0.0030 - val_acc: 0.9993s - loss: 0.0106 - acc: 0.99\n",
      "Epoch 2/50\n",
      "445244/445244 [==============================] - 54s 122us/step - loss: 0.0034 - acc: 0.9994 - val_loss: 0.0023 - val_acc: 0.9995\n",
      "Epoch 3/50\n",
      "445244/445244 [==============================] - 50s 113us/step - loss: 0.0029 - acc: 0.9994 - val_loss: 0.0019 - val_acc: 0.9996\n",
      "Epoch 4/50\n",
      "445244/445244 [==============================] - 51s 114us/step - loss: 0.0025 - acc: 0.9995 - val_loss: 0.0020 - val_acc: 0.9996\n",
      "Epoch 5/50\n",
      "445244/445244 [==============================] - 53s 119us/step - loss: 0.0024 - acc: 0.9995 - val_loss: 0.0021 - val_acc: 0.9996\n",
      "Epoch 6/50\n",
      "445244/445244 [==============================] - 62s 139us/step - loss: 0.0024 - acc: 0.9996 - val_loss: 0.0018 - val_acc: 0.9996\n",
      "Epoch 7/50\n",
      "445244/445244 [==============================] - 66s 148us/step - loss: 0.0022 - acc: 0.9996 - val_loss: 0.0017 - val_acc: 0.9996\n",
      "Epoch 8/50\n",
      "445244/445244 [==============================] - 59s 134us/step - loss: 0.0022 - acc: 0.9996 - val_loss: 0.0017 - val_acc: 0.9996\n",
      "Epoch 9/50\n",
      "445244/445244 [==============================] - 53s 119us/step - loss: 0.0021 - acc: 0.9996 - val_loss: 0.0022 - val_acc: 0.9995\n",
      "Epoch 10/50\n",
      "445244/445244 [==============================] - 51s 114us/step - loss: 0.0022 - acc: 0.9996 - val_loss: 0.0016 - val_acc: 0.9997\n",
      "Epoch 11/50\n",
      "445244/445244 [==============================] - 48s 108us/step - loss: 0.0021 - acc: 0.9996 - val_loss: 0.0017 - val_acc: 0.9997\n",
      "Epoch 12/50\n",
      "445244/445244 [==============================] - 56s 127us/step - loss: 0.0022 - acc: 0.9996 - val_loss: 0.0016 - val_acc: 0.9997\n",
      "Epoch 13/50\n",
      "445244/445244 [==============================] - 72s 162us/step - loss: 0.0020 - acc: 0.9996 - val_loss: 0.0019 - val_acc: 0.9996\n",
      "Epoch 14/50\n",
      "445244/445244 [==============================] - 69s 155us/step - loss: 0.0021 - acc: 0.9996 - val_loss: 0.0017 - val_acc: 0.9996\n",
      "Epoch 15/50\n",
      "445244/445244 [==============================] - 53s 120us/step - loss: 0.0021 - acc: 0.9996 - val_loss: 0.0016 - val_acc: 0.9997\n",
      "Test-Accuracy: 0.9995976321998585\n"
     ]
    }
   ],
   "source": [
    "from keras.utils import to_categorical\n",
    "from keras import models\n",
    "from keras import layers\n",
    "from keras.datasets import imdb\n",
    "from keras.callbacks import EarlyStopping\n",
    "\n",
    "\n",
    "early_stopping_monitor = EarlyStopping(patience=3)\n",
    "\n",
    "model = models.Sequential()\n",
    "# Input - Layer\n",
    "model.add(layers.Dense(78, activation = \"relu\", input_shape=(78, )))\n",
    "# Hidden - Layers\n",
    "model.add(layers.Dropout(0.3, noise_shape=None, seed=None))\n",
    "model.add(layers.Dense(200, activation = \"relu\"))\n",
    "model.add(layers.Dropout(0.3, noise_shape=None, seed=None))\n",
    "model.add(layers.Dense(200, activation = \"relu\"))\n",
    "model.add(layers.Dropout(0.2, noise_shape=None, seed=None))\n",
    "model.add(layers.Dense(200, activation = \"relu\"))\n",
    "model.add(layers.Dropout(0.3, noise_shape=None, seed=None))\n",
    "model.add(layers.Dense(200, activation = \"relu\"))\n",
    "model.add(layers.Dropout(0.2, noise_shape=None, seed=None))\n",
    "model.add(layers.Dense(78, activation = \"relu\"))\n",
    "# Output- Layer\n",
    "model.add(layers.Dense(6, activation = \"sigmoid\"))\n",
    "model.summary()\n",
    "# compiling the model\n",
    "model.compile(\n",
    " optimizer = \"adam\",\n",
    " loss = \"binary_crossentropy\",\n",
    " metrics = [\"accuracy\"]\n",
    ")\n",
    "\n",
    "\n",
    "results = model.fit(\n",
    " X_train, y_train,\n",
    " epochs= 50,\n",
    " batch_size = 100,\n",
    " validation_data = (X_test, y_test),callbacks=[early_stopping_monitor]\n",
    ")\n",
    "print(\"Test-Accuracy:\", np.mean(results.history[\"val_acc\"]))"
   ]
  },
  {
   "cell_type": "code",
   "execution_count": 69,
   "metadata": {},
   "outputs": [
    {
     "data": {
      "text/plain": [
       "['phase2_tree.sav']"
      ]
     },
     "execution_count": 69,
     "metadata": {},
     "output_type": "execute_result"
    }
   ],
   "source": [
    "from sklearn.externals import joblib\n",
    "filename = 'phase2_tree.sav'\n",
    "joblib.dump(clf, filename)"
   ]
  },
  {
   "cell_type": "code",
   "execution_count": null,
   "metadata": {},
   "outputs": [],
   "source": []
  }
 ],
 "metadata": {
  "kernelspec": {
   "display_name": "Python 3",
   "language": "python",
   "name": "python3"
  },
  "language_info": {
   "codemirror_mode": {
    "name": "ipython",
    "version": 3
   },
   "file_extension": ".py",
   "mimetype": "text/x-python",
   "name": "python",
   "nbconvert_exporter": "python",
   "pygments_lexer": "ipython3",
   "version": "3.7.3"
  }
 },
 "nbformat": 4,
 "nbformat_minor": 2
}
