{
  "nbformat": 4,
  "nbformat_minor": 0,
  "metadata": {
    "colab": {
      "name": "Dataset Analysis.ipynb",
      "version": "0.3.2",
      "provenance": [],
      "collapsed_sections": [],
      "include_colab_link": true
    },
    "kernelspec": {
      "display_name": "Python 3",
      "language": "python",
      "name": "python3"
    }
  },
  "cells": [
    {
      "cell_type": "markdown",
      "metadata": {
        "id": "view-in-github",
        "colab_type": "text"
      },
      "source": [
        "<a href=\"https://colab.research.google.com/github/gtyagi777/IDS-for-SDN/blob/master/Phase1_DecisionTree.ipynb\" target=\"_parent\"><img src=\"https://colab.research.google.com/assets/colab-badge.svg\" alt=\"Open In Colab\"/></a>"
      ]
    },
    {
      "metadata": {
        "id": "UvmR2sHEfWvR",
        "colab_type": "code",
        "colab": {}
      },
      "cell_type": "code",
      "source": [
        "import pandas as pd\n"
      ],
      "execution_count": 0,
      "outputs": []
    },
    {
      "metadata": {
        "id": "NoO4Xsb4fWvY",
        "colab_type": "code",
        "outputId": "e02a1a9a-5bf5-47c9-b810-0727f027b4a7",
        "colab": {
          "base_uri": "https://localhost:8080/",
          "height": 208
        }
      },
      "cell_type": "code",
      "source": [
        "!pip install -U -q PyDrive\n",
        " \n",
        "from pydrive.auth import GoogleAuth\n",
        "from pydrive.drive import GoogleDrive\n",
        "from google.colab import auth\n",
        "from oauth2client.client import GoogleCredentials\n",
        " \n",
        "# 1. Authenticate and create the PyDrive client.\n",
        "auth.authenticate_user()\n",
        "gauth = GoogleAuth()\n",
        "gauth.credentials = GoogleCredentials.get_application_default()\n",
        "drive = GoogleDrive(gauth)\n",
        "file_list = drive.ListFile({'q': \"'1r2Ybi5qAP3XI6JyI2jojaAc1m_UFxxqz' in parents and trashed=false\"}).GetList()\n",
        "for file1 in file_list:\n",
        "  print('title: %s, id: %s' % (file1['title'], file1['id']))"
      ],
      "execution_count": 2,
      "outputs": [
        {
          "output_type": "stream",
          "text": [
            "\u001b[?25l\r\u001b[K    1% |▎                               | 10kB 18.6MB/s eta 0:00:01\r\u001b[K    2% |▋                               | 20kB 1.9MB/s eta 0:00:01\r\u001b[K    3% |█                               | 30kB 2.7MB/s eta 0:00:01\r\u001b[K    4% |█▎                              | 40kB 1.8MB/s eta 0:00:01\r\u001b[K    5% |█▋                              | 51kB 2.2MB/s eta 0:00:01\r\u001b[K    6% |██                              | 61kB 2.6MB/s eta 0:00:01\r\u001b[K    7% |██▎                             | 71kB 3.0MB/s eta 0:00:01\r\u001b[K    8% |██▋                             | 81kB 3.4MB/s eta 0:00:01\r\u001b[K    9% |███                             | 92kB 3.7MB/s eta 0:00:01\r\u001b[K    10% |███▎                            | 102kB 2.9MB/s eta 0:00:01\r\u001b[K    11% |███▋                            | 112kB 2.9MB/s eta 0:00:01\r\u001b[K    12% |████                            | 122kB 4.0MB/s eta 0:00:01\r\u001b[K    13% |████▎                           | 133kB 4.0MB/s eta 0:00:01\r\u001b[K    14% |████▋                           | 143kB 7.5MB/s eta 0:00:01\r\u001b[K    15% |█████                           | 153kB 7.6MB/s eta 0:00:01\r\u001b[K    16% |█████▎                          | 163kB 7.6MB/s eta 0:00:01\r\u001b[K    17% |█████▋                          | 174kB 7.6MB/s eta 0:00:01\r\u001b[K    18% |██████                          | 184kB 7.7MB/s eta 0:00:01\r\u001b[K    19% |██████▎                         | 194kB 7.7MB/s eta 0:00:01\r\u001b[K    20% |██████▋                         | 204kB 37.1MB/s eta 0:00:01\r\u001b[K    21% |███████                         | 215kB 8.6MB/s eta 0:00:01\r\u001b[K    22% |███████▎                        | 225kB 8.5MB/s eta 0:00:01\r\u001b[K    23% |███████▋                        | 235kB 8.6MB/s eta 0:00:01\r\u001b[K    24% |████████                        | 245kB 8.7MB/s eta 0:00:01\r\u001b[K    25% |████████▎                       | 256kB 8.7MB/s eta 0:00:01\r\u001b[K    26% |████████▋                       | 266kB 8.5MB/s eta 0:00:01\r\u001b[K    27% |█████████                       | 276kB 8.5MB/s eta 0:00:01\r\u001b[K    29% |█████████▎                      | 286kB 8.5MB/s eta 0:00:01\r\u001b[K    30% |█████████▋                      | 296kB 8.5MB/s eta 0:00:01\r\u001b[K    31% |██████████                      | 307kB 8.8MB/s eta 0:00:01\r\u001b[K    32% |██████████▎                     | 317kB 48.4MB/s eta 0:00:01\r\u001b[K    33% |██████████▋                     | 327kB 53.4MB/s eta 0:00:01\r\u001b[K    34% |███████████                     | 337kB 55.1MB/s eta 0:00:01\r\u001b[K    35% |███████████▎                    | 348kB 48.0MB/s eta 0:00:01\r\u001b[K    36% |███████████▋                    | 358kB 47.6MB/s eta 0:00:01\r\u001b[K    37% |████████████                    | 368kB 57.0MB/s eta 0:00:01\r\u001b[K    38% |████████████▎                   | 378kB 57.8MB/s eta 0:00:01\r\u001b[K    39% |████████████▋                   | 389kB 58.1MB/s eta 0:00:01\r\u001b[K    40% |█████████████                   | 399kB 9.7MB/s eta 0:00:01\r\u001b[K    41% |█████████████▎                  | 409kB 9.6MB/s eta 0:00:01\r\u001b[K    42% |█████████████▋                  | 419kB 9.5MB/s eta 0:00:01\r\u001b[K    43% |██████████████                  | 430kB 9.5MB/s eta 0:00:01\r\u001b[K    44% |██████████████▎                 | 440kB 9.5MB/s eta 0:00:01\r\u001b[K    45% |██████████████▋                 | 450kB 9.5MB/s eta 0:00:01\r\u001b[K    46% |███████████████                 | 460kB 9.5MB/s eta 0:00:01\r\u001b[K    47% |███████████████▎                | 471kB 9.5MB/s eta 0:00:01\r\u001b[K    48% |███████████████▋                | 481kB 9.5MB/s eta 0:00:01\r\u001b[K    49% |████████████████                | 491kB 9.5MB/s eta 0:00:01\r\u001b[K    50% |████████████████▎               | 501kB 51.6MB/s eta 0:00:01\r\u001b[K    51% |████████████████▋               | 512kB 50.6MB/s eta 0:00:01\r\u001b[K    52% |█████████████████               | 522kB 50.6MB/s eta 0:00:01\r\u001b[K    53% |█████████████████▎              | 532kB 51.5MB/s eta 0:00:01\r\u001b[K    54% |█████████████████▋              | 542kB 8.6MB/s eta 0:00:01\r\u001b[K    55% |██████████████████              | 552kB 8.7MB/s eta 0:00:01\r\u001b[K    57% |██████████████████▎             | 563kB 8.7MB/s eta 0:00:01\r\u001b[K    58% |██████████████████▋             | 573kB 8.7MB/s eta 0:00:01\r\u001b[K    59% |███████████████████             | 583kB 8.7MB/s eta 0:00:01\r\u001b[K    60% |███████████████████▎            | 593kB 8.7MB/s eta 0:00:01\r\u001b[K    61% |███████████████████▋            | 604kB 8.7MB/s eta 0:00:01\r\u001b[K    62% |████████████████████            | 614kB 8.9MB/s eta 0:00:01\r\u001b[K    63% |████████████████████▎           | 624kB 8.9MB/s eta 0:00:01\r\u001b[K    64% |████████████████████▋           | 634kB 8.9MB/s eta 0:00:01\r\u001b[K    65% |█████████████████████           | 645kB 63.0MB/s eta 0:00:01\r\u001b[K    66% |█████████████████████▎          | 655kB 67.7MB/s eta 0:00:01\r\u001b[K    67% |█████████████████████▋          | 665kB 49.8MB/s eta 0:00:01\r\u001b[K    68% |██████████████████████          | 675kB 49.6MB/s eta 0:00:01\r\u001b[K    69% |██████████████████████▎         | 686kB 49.9MB/s eta 0:00:01\r\u001b[K    70% |██████████████████████▋         | 696kB 50.3MB/s eta 0:00:01\r\u001b[K    71% |███████████████████████         | 706kB 50.2MB/s eta 0:00:01\r\u001b[K    72% |███████████████████████▎        | 716kB 50.5MB/s eta 0:00:01\r\u001b[K    73% |███████████████████████▋        | 727kB 50.7MB/s eta 0:00:01\r\u001b[K    74% |████████████████████████        | 737kB 50.4MB/s eta 0:00:01\r\u001b[K    75% |████████████████████████▎       | 747kB 51.0MB/s eta 0:00:01\r\u001b[K    76% |████████████████████████▋       | 757kB 51.4MB/s eta 0:00:01\r\u001b[K    77% |████████████████████████▉       | 768kB 73.4MB/s eta 0:00:01\r\u001b[K    78% |█████████████████████████▏      | 778kB 76.0MB/s eta 0:00:01\r\u001b[K    79% |█████████████████████████▌      | 788kB 75.9MB/s eta 0:00:01\r\u001b[K    80% |█████████████████████████▉      | 798kB 77.9MB/s eta 0:00:01\r\u001b[K    81% |██████████████████████████▏     | 808kB 78.1MB/s eta 0:00:01\r\u001b[K    82% |██████████████████████████▌     | 819kB 78.0MB/s eta 0:00:01\r\u001b[K    83% |██████████████████████████▉     | 829kB 78.8MB/s eta 0:00:01\r\u001b[K    85% |███████████████████████████▏    | 839kB 77.9MB/s eta 0:00:01\r\u001b[K    86% |███████████████████████████▌    | 849kB 76.5MB/s eta 0:00:01\r\u001b[K    87% |███████████████████████████▉    | 860kB 62.2MB/s eta 0:00:01\r\u001b[K    88% |████████████████████████████▏   | 870kB 61.0MB/s eta 0:00:01\r\u001b[K    89% |████████████████████████████▌   | 880kB 61.6MB/s eta 0:00:01\r\u001b[K    90% |████████████████████████████▉   | 890kB 61.2MB/s eta 0:00:01\r\u001b[K    91% |█████████████████████████████▏  | 901kB 60.2MB/s eta 0:00:01\r\u001b[K    92% |█████████████████████████████▌  | 911kB 60.5MB/s eta 0:00:01\r\u001b[K    93% |█████████████████████████████▉  | 921kB 60.8MB/s eta 0:00:01\r\u001b[K    94% |██████████████████████████████▏ | 931kB 60.6MB/s eta 0:00:01\r\u001b[K    95% |██████████████████████████████▌ | 942kB 61.6MB/s eta 0:00:01\r\u001b[K    96% |██████████████████████████████▉ | 952kB 62.2MB/s eta 0:00:01\r\u001b[K    97% |███████████████████████████████▏| 962kB 78.3MB/s eta 0:00:01\r\u001b[K    98% |███████████████████████████████▌| 972kB 78.9MB/s eta 0:00:01\r\u001b[K    99% |███████████████████████████████▉| 983kB 78.1MB/s eta 0:00:01\r\u001b[K    100% |████████████████████████████████| 993kB 20.0MB/s \n",
            "\u001b[?25h  Building wheel for PyDrive (setup.py) ... \u001b[?25ldone\n",
            "\u001b[?25htitle: Dataset Analysis.ipynb, id: 1FVyxCdWX97kdWtYFzBnUErCYSHIdEKX6\n",
            "title: Copy of Dataset Analysis.ipynb, id: 1ppyoekXElY750gGtquDFowGR4dRqSF5K\n",
            "title: Untitled3.ipynb, id: 1zdwyAmMsV6uriekN7Fpkmnl-NwQ3VgOZ\n",
            "title: DF.pkl, id: 1y3JHFffO0s9CvD4VoeVJsv-Dk9Rsi1g5\n",
            "title: MNIST.ipynb, id: 1p42wxMR_N_6MqrbW8MObPWbaSN1U_dfd\n",
            "title: Untitled2.ipynb, id: 1YGqV7tCSnwWydp072wxdq6tMnJs_lnD_\n",
            "title: LearningTensorFlow.ipynb, id: 1nWmCudsGj1OcgRE6bjc3qsbG9nLX44Nj\n",
            "title: Untitled1.ipynb, id: 142t-wUTLHaMSW8Micxkz0xleBRvcpAhU\n",
            "title: Untitled0.ipynb, id: 10zKY7D_nwzktg3iYm9culrxB6mW_DjL9\n"
          ],
          "name": "stdout"
        }
      ]
    },
    {
      "metadata": {
        "id": "Q3MUuymUgRh0",
        "colab_type": "code",
        "colab": {}
      },
      "cell_type": "code",
      "source": [
        "train_downloaded = drive.CreateFile({'id': '1y3JHFffO0s9CvD4VoeVJsv-Dk9Rsi1g5'})\n",
        "train_downloaded.GetContentFile('DF.pkl')\n",
        "df = pd.read_pickle('DF.pkl')\n"
      ],
      "execution_count": 0,
      "outputs": []
    },
    {
      "metadata": {
        "id": "zJXztEoBfWwJ",
        "colab_type": "code",
        "outputId": "e65ad042-78bb-4563-a6f0-65b8106ca654",
        "colab": {
          "base_uri": "https://localhost:8080/",
          "height": 69
        }
      },
      "cell_type": "code",
      "source": [
        "import numpy as np\n",
        "df_Norm = df.drop([' Label'], axis=1)\n",
        "# Number of data points in the minority class\n",
        "number_records_fraud = len(df_Norm[df_Norm.Class == 1])\n",
        "fraud_indices = np.array(df_Norm[df_Norm.Class == 1].index)\n",
        "\n",
        "# Picking the indices of the normal classes\n",
        "normal_indices = df_Norm[df_Norm.Class == 0].index\n",
        "\n",
        "# Out of the indices we picked, randomly select \"x\" number (number_records_fraud)\n",
        "random_normal_indices = np.random.choice(normal_indices, number_records_fraud, replace = False)\n",
        "random_normal_indices = np.array(random_normal_indices)\n",
        "\n",
        "# Appending the 2 indices\n",
        "under_sample_indices = np.concatenate([fraud_indices,random_normal_indices])\n",
        "\n",
        "# Under sample dataset\n",
        "under_sample_data = df_Norm.iloc[under_sample_indices,:]\n",
        "\n",
        "X_undersample = under_sample_data.iloc[:, under_sample_data.columns != 'Class']\n",
        "y_undersample = under_sample_data.iloc[:, under_sample_data.columns == 'Class']\n",
        "\n",
        "# Showing ratio\n",
        "print(\"Percentage of Benign Cases: \", len(under_sample_data[under_sample_data.Class == 0])/len(under_sample_data))\n",
        "print(\"Percentage of Malicious Activity: \", len(under_sample_data[under_sample_data.Class == 1])/len(under_sample_data))\n",
        "print(\"Total number of cases: \", len(under_sample_data))\n"
      ],
      "execution_count": 10,
      "outputs": [
        {
          "output_type": "stream",
          "text": [
            "Percentage of Benign Cases:  0.4652496783791748\n",
            "Percentage of Malicious Activity:  0.5347503216208253\n",
            "Total number of cases:  1113112\n"
          ],
          "name": "stdout"
        }
      ]
    },
    {
      "metadata": {
        "id": "RDEzUhtCfWwc",
        "colab_type": "code",
        "colab": {}
      },
      "cell_type": "code",
      "source": [
        "from sklearn import preprocessing\n",
        "\n",
        "X = X_undersample.values #returns a numpy array\n",
        "min_max_scaler = preprocessing.MinMaxScaler()\n",
        "x_scaled = min_max_scaler.fit_transform(X)\n",
        "X_undersample_Norm = pd.DataFrame(x_scaled)"
      ],
      "execution_count": 0,
      "outputs": []
    },
    {
      "metadata": {
        "id": "Y5izYoy0fWwk",
        "colab_type": "code",
        "outputId": "ff04eb4a-0a7a-4f1e-8b90-86abf7d52dea",
        "colab": {
          "base_uri": "https://localhost:8080/",
          "height": 87
        }
      },
      "cell_type": "code",
      "source": [
        "from sklearn.model_selection import train_test_split\n",
        "\n",
        "# Undersampled dataset\n",
        "X_train_undersample, X_test_undersample, y_train_undersample, y_test_undersample = train_test_split(X_undersample_Norm\n",
        "                                                                                                   ,y_undersample\n",
        "                                                                                                   ,test_size = 0.2\n",
        "                                                                                                   ,random_state = 0)\n",
        "print(\"\")\n",
        "print(\"Rows in training undersample dataset: \", len(X_train_undersample))\n",
        "print(\"Rows in test undersample dataset: \", len(X_test_undersample))\n",
        "print(\"Total number: \", len(X_train_undersample)+len(X_test_undersample))"
      ],
      "execution_count": 13,
      "outputs": [
        {
          "output_type": "stream",
          "text": [
            "\n",
            "Rows in training undersample dataset:  890489\n",
            "Rows in test undersample dataset:  222623\n",
            "Total number:  1113112\n"
          ],
          "name": "stdout"
        }
      ]
    },
    {
      "metadata": {
        "id": "fBJx4lPs5Jjz",
        "colab_type": "code",
        "colab": {
          "base_uri": "https://localhost:8080/",
          "height": 121
        },
        "outputId": "ab54da83-4072-4918-8b09-12b4707c6b1c"
      },
      "cell_type": "code",
      "source": [
        "from sklearn import tree\n",
        "clf = tree.DecisionTreeClassifier()\n",
        "clf.fit(X_train_undersample,y_train_undersample.values.ravel())\n",
        "\n"
      ],
      "execution_count": 14,
      "outputs": [
        {
          "output_type": "execute_result",
          "data": {
            "text/plain": [
              "DecisionTreeClassifier(class_weight=None, criterion='gini', max_depth=None,\n",
              "            max_features=None, max_leaf_nodes=None,\n",
              "            min_impurity_decrease=0.0, min_impurity_split=None,\n",
              "            min_samples_leaf=1, min_samples_split=2,\n",
              "            min_weight_fraction_leaf=0.0, presort=False, random_state=None,\n",
              "            splitter='best')"
            ]
          },
          "metadata": {
            "tags": []
          },
          "execution_count": 14
        }
      ]
    },
    {
      "metadata": {
        "id": "sRXy3PtayAE7",
        "colab_type": "code",
        "colab": {}
      },
      "cell_type": "code",
      "source": [
        "y_pred_undersample = clf.predict(X_test_undersample.values)\n"
      ],
      "execution_count": 0,
      "outputs": []
    },
    {
      "metadata": {
        "id": "nCIwG5TvSykh",
        "colab_type": "code",
        "colab": {
          "base_uri": "https://localhost:8080/",
          "height": 382
        },
        "outputId": "922167df-d6f8-4f1b-acd2-f78d5ba01877"
      },
      "cell_type": "code",
      "source": [
        "from sklearn.metrics import confusion_matrix,precision_recall_curve,auc,roc_auc_score,roc_curve,recall_score,classification_report,accuracy_score \n",
        "\n",
        "cnf_matrix = confusion_matrix(y_test_undersample,y_pred_undersample)\n",
        "print(\"Recall: \", cnf_matrix[1,1]/(cnf_matrix[1,0]+cnf_matrix[1,1]))\n",
        "print(\"Accuracy\" ,accuracy_score(y_test_undersample,y_pred_undersample))\n",
        "\n",
        "from sklearn import metrics\n",
        "import matplotlib.pyplot as plt\n",
        "fpr, tpr, _ = metrics.roc_curve(y_test_undersample,y_pred_undersample)\n",
        "auc = metrics.roc_auc_score(y_test_undersample,y_pred_undersample)\n",
        "plt.plot(fpr,tpr,label=\"data 1, auc=\"+str(auc))\n",
        "plt.legend(loc=4)\n",
        "plt.show()\n"
      ],
      "execution_count": 17,
      "outputs": [
        {
          "output_type": "stream",
          "text": [
            "Recall:  0.9997736816958785\n",
            "Accuracy 0.999811340247863\n"
          ],
          "name": "stdout"
        },
        {
          "output_type": "display_data",
          "data": {
            "image/png": "[encoded data removed]",
            "text/plain": [
              "<Figure size 576x396 with 1 Axes>"
            ]
          },
          "metadata": {
            "tags": []
          }
        }
      ]
    },
    {
      "metadata": {
        "id": "6xUWDUumdRQU",
        "colab_type": "code",
        "colab": {}
      },
      "cell_type": "code",
      "source": [
        ""
      ],
      "execution_count": 0,
      "outputs": []
    }
  ]
}